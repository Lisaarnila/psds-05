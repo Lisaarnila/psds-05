{
  "nbformat": 4,
  "nbformat_minor": 0,
  "metadata": {
    "colab": {
      "provenance": []
    },
    "kernelspec": {
      "name": "python3",
      "display_name": "Python 3"
    },
    "language_info": {
      "name": "python"
    }
  },
  "cells": [
    {
      "cell_type": "markdown",
      "source": [
        "Latihan Operator 1"
      ],
      "metadata": {
        "id": "zuRJNoLYtpA9"
      }
    },
    {
      "cell_type": "code",
      "source": [
        "#penjumlahan\n",
        "print('Penjumlahan')\n",
        "print(5+5)\n",
        "#pengurangan\n",
        "print('Pengurangan')\n",
        "print(5-1)\n",
        "#perkalian\n",
        "print('Perkalian')\n",
        "print(5*1)\n",
        "#pembagian\n",
        "print('Pembagian')\n",
        "print(4%2)\n",
        "#perpangkatan\n",
        "print('Perpangkatan')\n",
        "print(5**1)\n",
        "#pembagian dengan hasil pembulatan\n",
        "print('Pembagian pembulatan flooring')\n",
        "print(5//1)"
      ],
      "metadata": {
        "colab": {
          "base_uri": "https://localhost:8080/"
        },
        "id": "riEQJ4lltuM6",
        "outputId": "6a60254c-0eed-4205-ee65-5e385a98384e"
      },
      "execution_count": 3,
      "outputs": [
        {
          "output_type": "stream",
          "name": "stdout",
          "text": [
            "Penjumlahan\n",
            "10\n",
            "Pengurangan\n",
            "4\n",
            "Perkalian\n",
            "5\n",
            "Pembagian\n",
            "0\n",
            "Perpangkatan\n",
            "5\n",
            "Pembagian pembulatan flooring\n",
            "5\n"
          ]
        }
      ]
    },
    {
      "cell_type": "markdown",
      "source": [
        "Latihan operator 2"
      ],
      "metadata": {
        "id": "cZ16L6sFvnfP"
      }
    },
    {
      "cell_type": "code",
      "source": [
        "#penjumlahan\n",
        "print('Penjumlahan')\n",
        "x=9\n",
        "x=x+9\n",
        "print(x)\n",
        "x=9\n",
        "x+=9\n",
        "print(x)\n",
        "\n",
        "#pengurangan\n",
        "print('Pengurangan')\n",
        "x=9\n",
        "x=x-9\n",
        "print(x)\n",
        "x=9\n",
        "x-=7\n",
        "print(x)\n",
        "\n",
        "#perkalian\n",
        "print('Perkalian')\n",
        "x=9\n",
        "x=x*9\n",
        "print(x)\n",
        "x=9\n",
        "x*=7\n",
        "print(x)\n",
        "\n",
        "#pembagian\n",
        "print('Pembagian')\n",
        "x=9\n",
        "x=x/9\n",
        "print(x)\n",
        "x=9\n",
        "x/=7\n",
        "print(x)\n",
        "\n",
        "#modulus\n",
        "print('Modulus')\n",
        "x=9\n",
        "x=x%9\n",
        "print(x)\n",
        "x=9\n",
        "x%=7\n",
        "print(x)\n",
        "\n",
        "#pembagian flooring\n",
        "print('Pembagian flooring')\n",
        "x=9\n",
        "x=x//9\n",
        "print(x)\n",
        "x=9\n",
        "x//=7\n",
        "print(x)\n",
        "\n",
        "#perpangkatan\n",
        "print('Perpangkatan')\n",
        "x=9\n",
        "x=x**9"
      ],
      "metadata": {
        "colab": {
          "base_uri": "https://localhost:8080/"
        },
        "id": "8XKSSUTavtAE",
        "outputId": "e7c7401b-e7a7-42b3-869f-70486951b752"
      },
      "execution_count": 4,
      "outputs": [
        {
          "output_type": "stream",
          "name": "stdout",
          "text": [
            "Penjumlahan\n",
            "18\n",
            "18\n",
            "Pengurangan\n",
            "0\n",
            "2\n",
            "Perkalian\n",
            "81\n",
            "63\n",
            "Pembagian\n",
            "1.0\n",
            "1.2857142857142858\n",
            "Modulus\n",
            "0\n",
            "2\n",
            "Pembagian flooring\n",
            "1\n",
            "1\n",
            "Perpangkatan\n"
          ]
        }
      ]
    },
    {
      "cell_type": "markdown",
      "source": [
        "Latihan operator 3"
      ],
      "metadata": {
        "id": "T51O5wUNxn1F"
      }
    },
    {
      "cell_type": "code",
      "source": [
        "print(4==2)\n",
        "print(4!=2)\n",
        "print(4>2)\n",
        "print(4<2)\n",
        "print(4>=2)\n",
        "print(4<=2)"
      ],
      "metadata": {
        "colab": {
          "base_uri": "https://localhost:8080/"
        },
        "id": "v9nErv-hx1ux",
        "outputId": "f83abe76-2658-4515-d50b-d1dc50bb626b"
      },
      "execution_count": 6,
      "outputs": [
        {
          "output_type": "stream",
          "name": "stdout",
          "text": [
            "False\n",
            "True\n",
            "True\n",
            "False\n",
            "True\n",
            "False\n"
          ]
        }
      ]
    },
    {
      "cell_type": "markdown",
      "source": [
        "Latihan operator 4"
      ],
      "metadata": {
        "id": "PJLyENceyKKI"
      }
    },
    {
      "cell_type": "code",
      "source": [
        "print(True and False)\n",
        "print(False or False)\n",
        "print(not False and True)"
      ],
      "metadata": {
        "colab": {
          "base_uri": "https://localhost:8080/"
        },
        "id": "fSqM9QwTyPaO",
        "outputId": "d8d719bc-ff7d-43dd-a75d-c2f6bab602cf"
      },
      "execution_count": 7,
      "outputs": [
        {
          "output_type": "stream",
          "name": "stdout",
          "text": [
            "False\n",
            "False\n",
            "True\n"
          ]
        }
      ]
    },
    {
      "cell_type": "markdown",
      "source": [
        "Latihan operator 5"
      ],
      "metadata": {
        "id": "J_PjAbVMyqsj"
      }
    },
    {
      "cell_type": "code",
      "source": [
        "c=(8,9,10,11,12,13)\n",
        "d=9\n",
        "\n",
        "print(d in c)\n",
        "c=(8,9,10,11,12,13)\n",
        "d=14\n",
        "print(d not in c)\n"
      ],
      "metadata": {
        "colab": {
          "base_uri": "https://localhost:8080/"
        },
        "id": "IJ-jgrAhyszf",
        "outputId": "93b92154-66df-4a00-c9b5-5ae9728241f8"
      },
      "execution_count": 8,
      "outputs": [
        {
          "output_type": "stream",
          "name": "stdout",
          "text": [
            "True\n",
            "True\n"
          ]
        }
      ]
    },
    {
      "cell_type": "markdown",
      "source": [
        "Latihan variabel 1"
      ],
      "metadata": {
        "id": "l01rmDIYzXWB"
      }
    },
    {
      "cell_type": "code",
      "source": [
        "#membuat variabel\n",
        "kalimat='saya mahasiswa matematika'\n",
        "bilangan1 = 5\n",
        "bilangan2 = 6.5\n",
        "bilangan3 = False\n",
        "bilangan4 = 2j + 5"
      ],
      "metadata": {
        "id": "dRZNeFsJzbnk"
      },
      "execution_count": 9,
      "outputs": []
    },
    {
      "cell_type": "markdown",
      "source": [
        "Latihan variabel 2"
      ],
      "metadata": {
        "id": "EBKjHjQ30ZQl"
      }
    },
    {
      "cell_type": "code",
      "source": [
        "#menampilkan variabel\n",
        "print(kalimat)\n",
        "print(bilangan1)\n",
        "print(bilangan2)\n",
        "print(bilangan3)\n",
        "print(bilangan4)"
      ],
      "metadata": {
        "colab": {
          "base_uri": "https://localhost:8080/"
        },
        "id": "cZCV-OsIz9FC",
        "outputId": "d47a9f51-38ad-4adb-baf7-0bcc4402d3b5"
      },
      "execution_count": 10,
      "outputs": [
        {
          "output_type": "stream",
          "name": "stdout",
          "text": [
            "saya mahasiswa matematika\n",
            "5\n",
            "6.5\n",
            "False\n",
            "(5+2j)\n"
          ]
        }
      ]
    },
    {
      "cell_type": "markdown",
      "source": [
        "Latihan variabel 3"
      ],
      "metadata": {
        "id": "49BuHWw90dp-"
      }
    },
    {
      "cell_type": "code",
      "source": [
        "#konversi tipe data integer\n",
        "print(int(bilangan2))\n",
        "print(int(bilangan3))\n",
        "\n",
        "#konversi tipe data float\n",
        "print(float(bilangan1))\n",
        "print(float(bilangan3))\n",
        "\n",
        "#konversi tipe data string\n",
        "print(str(bilangan1))\n",
        "print(str(bilangan2))\n",
        "print(str(bilangan3))"
      ],
      "metadata": {
        "colab": {
          "base_uri": "https://localhost:8080/"
        },
        "id": "2raVJcvU0k6a",
        "outputId": "6c712313-8c01-4450-ea73-5a3092a78b05"
      },
      "execution_count": 11,
      "outputs": [
        {
          "output_type": "stream",
          "name": "stdout",
          "text": [
            "6\n",
            "0\n",
            "5.0\n",
            "0.0\n",
            "5\n",
            "6.5\n",
            "False\n"
          ]
        }
      ]
    }
  ]
}